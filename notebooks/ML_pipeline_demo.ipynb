{
 "cells": [
  {
   "cell_type": "code",
   "execution_count": 50,
   "id": "timely-medium",
   "metadata": {},
   "outputs": [
    {
     "name": "stderr",
     "output_type": "stream",
     "text": [
      "[nltk_data] Downloading package punkt to /home/sgm/nltk_data...\n",
      "[nltk_data]   Package punkt is already up-to-date!\n",
      "[nltk_data] Downloading package wordnet to /home/sgm/nltk_data...\n",
      "[nltk_data]   Package wordnet is already up-to-date!\n"
     ]
    }
   ],
   "source": [
    "import sys\n",
    "sys.path.append('..')\n",
    "import re\n",
    "\n",
    "import numpy as np\n",
    "import pickle\n",
    "import pandas as pd\n",
    "import sqlalchemy\n",
    "import nltk\n",
    "nltk.download(['punkt', 'wordnet'])\n",
    "from nltk.tokenize import word_tokenize\n",
    "from nltk.stem import WordNetLemmatizer\n",
    "from sklearn.metrics import confusion_matrix\n",
    "from sklearn.model_selection import train_test_split\n",
    "from sklearn.model_selection import GridSearchCV\n",
    "from sklearn.neural_network import MLPClassifier\n",
    "from sklearn.multioutput import MultiOutputClassifier\n",
    "from sklearn.feature_extraction.text import CountVectorizer, TfidfTransformer\n",
    "from sklearn.pipeline import Pipeline"
   ]
  },
  {
   "cell_type": "code",
   "execution_count": 51,
   "id": "foreign-tiger",
   "metadata": {},
   "outputs": [],
   "source": [
    "def load_data(database_filepath):\n",
    "    engine = sqlalchemy.create_engine(\"sqlite:///%s\" % database_filepath)\n",
    "    df = pd.read_sql_table('disaster_messages', engine)\n",
    "    X = df.message.copy()\n",
    "    y = df[df.columns[4:]].copy()\n",
    "    y = y.apply(pd.to_numeric)\n",
    "    categories = df.columns[4:].copy()\n",
    "    return X, y, categories"
   ]
  },
  {
   "cell_type": "code",
   "execution_count": 52,
   "id": "mounted-asian",
   "metadata": {},
   "outputs": [],
   "source": [
    "X,y,categories = load_data('../data/DisasterResponse.db')"
   ]
  },
  {
   "cell_type": "code",
   "execution_count": 53,
   "id": "compatible-target",
   "metadata": {},
   "outputs": [
    {
     "data": {
      "text/plain": [
       "0    Weather update - a cold front from Cuba that c...\n",
       "1              Is the Hurricane over or is it not over\n",
       "2                      Looking for someone but no name\n",
       "3    UN reports Leogane 80-90 destroyed. Only Hospi...\n",
       "4    says: west side of Haiti, rest of the country ...\n",
       "Name: message, dtype: object"
      ]
     },
     "execution_count": 53,
     "metadata": {},
     "output_type": "execute_result"
    }
   ],
   "source": [
    "X.head()"
   ]
  },
  {
   "cell_type": "code",
   "execution_count": 54,
   "id": "increasing-chicken",
   "metadata": {},
   "outputs": [
    {
     "data": {
      "text/plain": [
       "related                   int64\n",
       "request                   int64\n",
       "offer                     int64\n",
       "aid_related               int64\n",
       "medical_help              int64\n",
       "medical_products          int64\n",
       "search_and_rescue         int64\n",
       "security                  int64\n",
       "military                  int64\n",
       "child_alone               int64\n",
       "water                     int64\n",
       "food                      int64\n",
       "shelter                   int64\n",
       "clothing                  int64\n",
       "money                     int64\n",
       "missing_people            int64\n",
       "refugees                  int64\n",
       "death                     int64\n",
       "other_aid                 int64\n",
       "infrastructure_related    int64\n",
       "transport                 int64\n",
       "buildings                 int64\n",
       "electricity               int64\n",
       "tools                     int64\n",
       "hospitals                 int64\n",
       "shops                     int64\n",
       "aid_centers               int64\n",
       "other_infrastructure      int64\n",
       "weather_related           int64\n",
       "floods                    int64\n",
       "storm                     int64\n",
       "fire                      int64\n",
       "earthquake                int64\n",
       "cold                      int64\n",
       "other_weather             int64\n",
       "direct_report             int64\n",
       "dtype: object"
      ]
     },
     "execution_count": 54,
     "metadata": {},
     "output_type": "execute_result"
    }
   ],
   "source": [
    "y.dtypes"
   ]
  },
  {
   "cell_type": "code",
   "execution_count": 55,
   "id": "alive-power",
   "metadata": {},
   "outputs": [
    {
     "data": {
      "text/plain": [
       "Index(['related', 'request', 'offer', 'aid_related', 'medical_help',\n",
       "       'medical_products', 'search_and_rescue', 'security', 'military',\n",
       "       'child_alone', 'water', 'food', 'shelter', 'clothing', 'money',\n",
       "       'missing_people', 'refugees', 'death', 'other_aid',\n",
       "       'infrastructure_related', 'transport', 'buildings', 'electricity',\n",
       "       'tools', 'hospitals', 'shops', 'aid_centers', 'other_infrastructure',\n",
       "       'weather_related', 'floods', 'storm', 'fire', 'earthquake', 'cold',\n",
       "       'other_weather', 'direct_report'],\n",
       "      dtype='object')"
      ]
     },
     "execution_count": 55,
     "metadata": {},
     "output_type": "execute_result"
    }
   ],
   "source": [
    "categories"
   ]
  },
  {
   "cell_type": "code",
   "execution_count": 56,
   "id": "brilliant-price",
   "metadata": {},
   "outputs": [],
   "source": [
    "X_train, X_test, Y_train, Y_test = train_test_split(X, y, test_size=0.2)"
   ]
  },
  {
   "cell_type": "code",
   "execution_count": 57,
   "id": "violent-deposit",
   "metadata": {},
   "outputs": [],
   "source": [
    "def tokenize(text):\n",
    "    url_regex = 'http[s]?://(?:[a-zA-Z]|[0-9]|[$-_@.&+]|[!*\\(\\),]|(?:%[0-9a-fA-F][0-9a-fA-F]))+'\n",
    "    detected_urls = re.findall(url_regex, text)\n",
    "    for url in detected_urls:\n",
    "        text = text.replace(url, \"urlplaceholder\")\n",
    "\n",
    "    tokens = word_tokenize(text)\n",
    "    lemmatizer = WordNetLemmatizer()\n",
    "\n",
    "    clean_tokens = []\n",
    "    for tok in tokens:\n",
    "        clean_tok = lemmatizer.lemmatize(tok).lower().strip()\n",
    "        clean_tokens.append(clean_tok)\n",
    "\n",
    "    return clean_tokens"
   ]
  },
  {
   "cell_type": "code",
   "execution_count": 61,
   "id": "encouraging-minimum",
   "metadata": {},
   "outputs": [],
   "source": [
    "def build_model(verbose=False):\n",
    "    pipeline = Pipeline([\n",
    "        ('vect', CountVectorizer(tokenizer=tokenize)),\n",
    "        ('tfidf', TfidfTransformer()),\n",
    "        ('clf', MultiOutputClassifier(MLPClassifier()))\n",
    "    ])\n",
    "    if verbose:\n",
    "        for p in pipeline.get_params().keys():\n",
    "           print(p)\n",
    "\n",
    "    parameters = {\n",
    "        'tfidf__norm': ['l2', 'l1'],\n",
    "        'clf__estimator__hidden_layer_sizes': [\n",
    "            (50,),\n",
    "            (50, 25),\n",
    "            (50, 25, 10)\n",
    "        ],\n",
    "        'clf__estimator__learning_rate_init': [\n",
    "            0.001,\n",
    "            0.01\n",
    "        ]\n",
    "    }\n",
    "\n",
    "    cv = GridSearchCV(pipeline, parameters)\n",
    "\n",
    "    return cv"
   ]
  },
  {
   "cell_type": "code",
   "execution_count": 62,
   "id": "paperback-avatar",
   "metadata": {},
   "outputs": [],
   "source": [
    "model = build_model(False)"
   ]
  },
  {
   "cell_type": "code",
   "execution_count": null,
   "id": "executed-matrix",
   "metadata": {
    "scrolled": false
   },
   "outputs": [
    {
     "name": "stderr",
     "output_type": "stream",
     "text": [
      "/home/sgm/miniconda3/envs/data/lib/python3.8/site-packages/sklearn/neural_network/_multilayer_perceptron.py:614: ConvergenceWarning: Stochastic Optimizer: Maximum iterations (200) reached and the optimization hasn't converged yet.\n",
      "  warnings.warn(\n",
      "/home/sgm/miniconda3/envs/data/lib/python3.8/site-packages/sklearn/neural_network/_multilayer_perceptron.py:614: ConvergenceWarning: Stochastic Optimizer: Maximum iterations (200) reached and the optimization hasn't converged yet.\n",
      "  warnings.warn(\n",
      "/home/sgm/miniconda3/envs/data/lib/python3.8/site-packages/sklearn/neural_network/_multilayer_perceptron.py:614: ConvergenceWarning: Stochastic Optimizer: Maximum iterations (200) reached and the optimization hasn't converged yet.\n",
      "  warnings.warn(\n",
      "/home/sgm/miniconda3/envs/data/lib/python3.8/site-packages/sklearn/neural_network/_multilayer_perceptron.py:614: ConvergenceWarning: Stochastic Optimizer: Maximum iterations (200) reached and the optimization hasn't converged yet.\n",
      "  warnings.warn(\n",
      "/home/sgm/miniconda3/envs/data/lib/python3.8/site-packages/sklearn/neural_network/_multilayer_perceptron.py:614: ConvergenceWarning: Stochastic Optimizer: Maximum iterations (200) reached and the optimization hasn't converged yet.\n",
      "  warnings.warn(\n"
     ]
    }
   ],
   "source": [
    "model.fit(X_train, Y_train)"
   ]
  },
  {
   "cell_type": "code",
   "execution_count": null,
   "id": "brief-murray",
   "metadata": {},
   "outputs": [],
   "source": []
  }
 ],
 "metadata": {
  "kernelspec": {
   "display_name": "Python [conda env:data] *",
   "language": "python",
   "name": "conda-env-data-py"
  },
  "language_info": {
   "codemirror_mode": {
    "name": "ipython",
    "version": 3
   },
   "file_extension": ".py",
   "mimetype": "text/x-python",
   "name": "python",
   "nbconvert_exporter": "python",
   "pygments_lexer": "ipython3",
   "version": "3.8.5"
  }
 },
 "nbformat": 4,
 "nbformat_minor": 5
}
